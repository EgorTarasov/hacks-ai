{
 "cells": [
  {
   "cell_type": "code",
   "execution_count": 60,
   "metadata": {},
   "outputs": [],
   "source": [
    "import pandas as pd\n",
    "from  search import Search\n",
    "\n",
    "search = Search(key='uniq_id', on = ['category', 'problem'])"
   ]
  },
  {
   "cell_type": "code",
   "execution_count": 64,
   "metadata": {},
   "outputs": [],
   "source": [
    "df = pd.read_csv('data/parsed.csv', sep=';')"
   ]
  },
  {
   "cell_type": "code",
   "execution_count": 65,
   "metadata": {},
   "outputs": [],
   "source": [
    "df['category'] = df['category'].fillna('')\n",
    "df['problem'] = df['problem'].fillna('')"
   ]
  },
  {
   "cell_type": "code",
   "execution_count": 66,
   "metadata": {},
   "outputs": [
    {
     "name": "stderr",
     "output_type": "stream",
     "text": [
      "Retriever embeddings calculation.: 100%|██████████| 1/1 [00:00<00:00,  6.68it/s]\n",
      "Retriever embeddings calculation.: 100%|██████████| 2/2 [00:00<00:00, 14.46it/s]\n",
      "Retriever embeddings calculation.: 100%|██████████| 1/1 [00:00<00:00, 43.30it/s]\n",
      "Retriever embeddings calculation.: 100%|██████████| 1/1 [00:00<00:00, 32.37it/s]\n",
      "Retriever embeddings calculation.: 100%|██████████| 4/4 [00:00<00:00, 30.68it/s]\n",
      "Retriever embeddings calculation.: 100%|██████████| 1/1 [00:00<00:00, 14.50it/s]\n",
      "Retriever embeddings calculation.: 100%|██████████| 1/1 [00:00<00:00, 14.67it/s]\n",
      "Retriever embeddings calculation.: 100%|██████████| 5/5 [00:00<00:00, 13.33it/s]\n",
      "Retriever embeddings calculation.: 100%|██████████| 1/1 [00:00<00:00, 78.76it/s]\n",
      "Retriever embeddings calculation.: 100%|██████████| 1/1 [00:00<00:00, 26.09it/s]\n",
      "Retriever embeddings calculation.: 100%|██████████| 1/1 [00:00<00:00, 27.42it/s]\n",
      "Retriever embeddings calculation.: 100%|██████████| 1/1 [00:00<00:00, 24.39it/s]\n",
      "Retriever embeddings calculation.: 100%|██████████| 2/2 [00:00<00:00, 17.36it/s]\n",
      "Retriever embeddings calculation.: 100%|██████████| 2/2 [00:00<00:00, 13.14it/s]\n",
      "Retriever embeddings calculation.: 100%|██████████| 1/1 [00:00<00:00, 31.93it/s]\n",
      "Retriever embeddings calculation.: 100%|██████████| 2/2 [00:00<00:00, 13.93it/s]\n",
      "Retriever embeddings calculation.: 100%|██████████| 1/1 [00:00<00:00, 57.83it/s]\n",
      "Retriever embeddings calculation.: 100%|██████████| 1/1 [00:00<00:00, 27.08it/s]\n",
      "Retriever embeddings calculation.: 100%|██████████| 1/1 [00:00<00:00, 30.34it/s]\n",
      "Retriever embeddings calculation.: 100%|██████████| 1/1 [00:00<00:00, 17.72it/s]\n",
      "Retriever embeddings calculation.: 100%|██████████| 1/1 [00:00<00:00, 50.49it/s]\n",
      "Retriever embeddings calculation.: 100%|██████████| 1/1 [00:00<00:00, 28.30it/s]\n",
      "Retriever embeddings calculation.: 100%|██████████| 1/1 [00:00<00:00, 41.43it/s]\n",
      "Retriever embeddings calculation.: 100%|██████████| 1/1 [00:00<00:00, 15.24it/s]\n",
      "Retriever embeddings calculation.: 100%|██████████| 1/1 [00:00<00:00, 34.23it/s]\n",
      "Retriever embeddings calculation.: 100%|██████████| 2/2 [00:00<00:00, 18.85it/s]\n",
      "Retriever embeddings calculation.: 100%|██████████| 1/1 [00:00<00:00, 45.82it/s]\n",
      "Retriever embeddings calculation.: 100%|██████████| 1/1 [00:00<00:00, 28.12it/s]\n",
      "Retriever embeddings calculation.: 100%|██████████| 1/1 [00:00<00:00, 32.69it/s]\n",
      "Retriever embeddings calculation.: 100%|██████████| 1/1 [00:00<00:00, 22.82it/s]\n",
      "Retriever embeddings calculation.: 100%|██████████| 7/7 [00:00<00:00, 28.65it/s]\n",
      "Retriever embeddings calculation.: 100%|██████████| 1/1 [00:00<00:00, 25.28it/s]\n",
      "Retriever embeddings calculation.: 100%|██████████| 1/1 [00:00<00:00, 36.63it/s]\n",
      "Retriever embeddings calculation.: 100%|██████████| 1/1 [00:00<00:00, 35.27it/s]\n",
      "Retriever embeddings calculation.: 100%|██████████| 1/1 [00:00<00:00, 26.78it/s]\n",
      "Retriever embeddings calculation.: 100%|██████████| 1/1 [00:00<00:00, 34.31it/s]\n",
      "Retriever embeddings calculation.: 100%|██████████| 1/1 [00:00<00:00, 18.69it/s]\n",
      "Retriever embeddings calculation.: 100%|██████████| 1/1 [00:00<00:00, 39.13it/s]\n",
      "Retriever embeddings calculation.: 100%|██████████| 4/4 [00:00<00:00, 14.77it/s]\n"
     ]
    }
   ],
   "source": [
    "embeds = {}\n",
    "for train_name in df['train_name'].unique():\n",
    "    embed = search.get_new_index(df[df['train_name']==train_name])\n",
    "    for name in train_name.split(','):\n",
    "        embeds[name] = embed"
   ]
  },
  {
   "cell_type": "code",
   "execution_count": 67,
   "metadata": {},
   "outputs": [],
   "source": [
    "import pickle\n",
    "\n",
    "pickle.dump(embeds, open('data/embeds.pkl', mode='wb'))\n"
   ]
  }
 ],
 "metadata": {
  "kernelspec": {
   "display_name": "env",
   "language": "python",
   "name": "python3"
  },
  "language_info": {
   "codemirror_mode": {
    "name": "ipython",
    "version": 3
   },
   "file_extension": ".py",
   "mimetype": "text/x-python",
   "name": "python",
   "nbconvert_exporter": "python",
   "pygments_lexer": "ipython3",
   "version": "3.10.9"
  },
  "orig_nbformat": 4,
  "vscode": {
   "interpreter": {
    "hash": "af001c29e8c8ba6225572cf219a918f005bf3d5803e1ec722518eee1139734b4"
   }
  }
 },
 "nbformat": 4,
 "nbformat_minor": 2
}
